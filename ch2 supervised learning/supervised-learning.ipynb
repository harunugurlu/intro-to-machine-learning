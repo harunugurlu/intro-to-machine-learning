{
 "cells": [
  {
   "cell_type": "markdown",
   "id": "ee3ec4ac",
   "metadata": {},
   "source": [
    "# This notebook is for Chapter 2 - Supervised Learnig of the book"
   ]
  },
  {
   "cell_type": "code",
   "execution_count": 1,
   "id": "e3d23332",
   "metadata": {},
   "outputs": [],
   "source": [
    "import pandas as pd\n",
    "import numpy as np\n",
    "import mglearn"
   ]
  }
 ],
 "metadata": {
  "kernelspec": {
   "display_name": "Python 3 (ipykernel)",
   "language": "python",
   "name": "python3"
  },
  "language_info": {
   "codemirror_mode": {
    "name": "ipython",
    "version": 3
   },
   "file_extension": ".py",
   "mimetype": "text/x-python",
   "name": "python",
   "nbconvert_exporter": "python",
   "pygments_lexer": "ipython3",
   "version": "3.9.13"
  }
 },
 "nbformat": 4,
 "nbformat_minor": 5
}
